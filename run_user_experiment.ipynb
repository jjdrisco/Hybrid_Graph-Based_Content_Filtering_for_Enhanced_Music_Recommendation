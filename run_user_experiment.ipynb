{
 "cells": [
  {
   "cell_type": "code",
   "execution_count": 6,
   "metadata": {},
   "outputs": [],
   "source": [
    "import pandas as pd\n",
    "import networkx as nx\n",
    "import numpy as np\n",
    "import random\n",
    "from functions.functions_generate_playlist import (\n",
    "    generate_basic_playlist,\n",
    "    generate_stochastic_playlist, \n",
    "    generate_genre_guided_playlist,\n",
    "    select_starting_song,\n",
    "    display_playlist,\n",
    "    save_playlist_to_csv\n",
    ")\n",
    "\n",
    "from functions.functions_metrics import (\n",
    "    intra_list_diversity,\n",
    "    genre_coverage,\n",
    "    feature_variance\n",
    ")\n",
    "\n",
    "from functions.functions_clustering import load_compressed_model"
   ]
  },
  {
   "cell_type": "code",
   "execution_count": 2,
   "metadata": {},
   "outputs": [],
   "source": [
    "DATA_FP = 'data_music_features/25-03-12_processed_spotify_sample.csv'\n",
    "df = pd.read_csv(DATA_FP)\n",
    "model = load_compressed_model('Baseline', 'models/25-03-07')\n",
    "G = nx.read_graphml(\"models/25-03-13/music_genre_graph.graphml\")\n",
    "feature_cols = ['explicit', 'danceability', 'energy', 'key', 'loudness', 'mode',\n",
    "                        'speechiness', 'acousticness', 'instrumentalness', 'liveness',\n",
    "                        'valence', 'tempo', 'time_signature', 'encoded_genre']"
   ]
  },
  {
   "cell_type": "code",
   "execution_count": null,
   "metadata": {},
   "outputs": [
    {
     "name": "stdout",
     "output_type": "stream",
     "text": [
      "Playlist saved to user_experiment_playlists/basic_playlist_0.txt\n",
      "Playlist saved to user_experiment_playlists/stochastic_playlist_0.txt\n",
      "Genre transition path: ['club', 'party', 'edm', 'club', 'edm', 'trance', 'hardstyle', 'trance', 'detroit-techno', 'trance', 'house', 'hardstyle', 'edm', 'detroit-techno', 'edm', 'club', 'party']\n",
      "Playlist saved to user_experiment_playlists/genre_guided_playlist_0.txt\n",
      "Playlist saved to user_experiment_playlists/basic_playlist_1.txt\n",
      "Playlist saved to user_experiment_playlists/stochastic_playlist_1.txt\n",
      "Genre transition path: ['sertanejo', 'brazil', 'sertanejo', 'brazil', 'mpb', 'brazil', 'sertanejo', 'brazil', 'sertanejo', 'brazil', 'sertanejo', 'brazil', 'pagode', 'brazil', 'sertanejo', 'brazil', 'sertanejo']\n",
      "Playlist saved to user_experiment_playlists/genre_guided_playlist_1.txt\n",
      "Playlist saved to user_experiment_playlists/basic_playlist_2.txt\n",
      "Playlist saved to user_experiment_playlists/stochastic_playlist_2.txt\n",
      "Genre transition path: ['party', 'club', 'party', 'club', 'party', 'club', 'party', 'club', 'party', 'club', 'edm', 'idm', 'techno', 'detroit-techno', 'edm', 'electro', 'techno']\n",
      "Playlist saved to user_experiment_playlists/genre_guided_playlist_2.txt\n",
      "Playlist saved to user_experiment_playlists/basic_playlist_3.txt\n",
      "Playlist saved to user_experiment_playlists/stochastic_playlist_3.txt\n",
      "Genre transition path: ['disco', 'synth-pop', 'disco', 'soul', 'r-n-b', 'soul', 'afrobeat', 'funk', 'soul', 'r-n-b', 'funk', 'r-n-b', 'soul', 'afrobeat', 'funk', 'soul', 'disco']\n",
      "Playlist saved to user_experiment_playlists/genre_guided_playlist_3.txt\n"
     ]
    }
   ],
   "source": [
    "seed = 42\n",
    "if seed is not None:\n",
    "    random.seed(seed)\n",
    "    np.random.seed(seed)\n",
    "num_playlists = 4\n",
    "\n",
    "for _ in range(num_playlists):\n",
    "    starting_song_index = select_starting_song(df)\n",
    "    while df.iloc[starting_song_index]['track_genre'] not in np.array(G.nodes.data())[:,0]:\n",
    "        starting_song_index = select_starting_song(df)\n",
    "        print(starting_song_index)\n",
    "    \n",
    "    playlist = generate_basic_playlist(df, model, starting_song_index, 16)\n",
    "    save_playlist_to_csv(playlist, f'user_experiment_playlists/basic_playlist_{_}.txt')\n",
    "    \n",
    "    playlist = generate_stochastic_playlist(df, model, starting_song_index, 16)\n",
    "    save_playlist_to_csv(playlist, f'user_experiment_playlists/stochastic_playlist_{_}.txt')\n",
    "    \n",
    "    playlist = generate_genre_guided_playlist(df, model, G, starting_song_index, 16)\n",
    "    save_playlist_to_csv(playlist, f'user_experiment_playlists/genre_guided_playlist_{_}.txt')"
   ]
  },
  {
   "cell_type": "code",
   "execution_count": null,
   "metadata": {},
   "outputs": [],
   "source": []
  }
 ],
 "metadata": {
  "kernelspec": {
   "display_name": "dsc250project",
   "language": "python",
   "name": "python3"
  },
  "language_info": {
   "codemirror_mode": {
    "name": "ipython",
    "version": 3
   },
   "file_extension": ".py",
   "mimetype": "text/x-python",
   "name": "python",
   "nbconvert_exporter": "python",
   "pygments_lexer": "ipython3",
   "version": "3.10.16"
  }
 },
 "nbformat": 4,
 "nbformat_minor": 2
}
