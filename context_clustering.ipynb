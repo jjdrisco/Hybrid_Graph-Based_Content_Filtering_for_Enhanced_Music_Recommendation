{
 "cells": [
  {
   "cell_type": "code",
   "execution_count": null,
   "metadata": {},
   "outputs": [],
   "source": [
    "# want to use agglometrive clustering - similarity based cluster merging\n",
    "# need lots of small clusters\n",
    "# https://arc.net/l/quote/fzvgzwab\n"
   ]
  },
  {
   "cell_type": "code",
   "execution_count": null,
   "metadata": {},
   "outputs": [],
   "source": [
    "MUSIC_FEATURES_FP = 'data_music_features/processed_spotify_sample.csv'"
   ]
  }
 ],
 "metadata": {
  "language_info": {
   "name": "python"
  }
 },
 "nbformat": 4,
 "nbformat_minor": 2
}
