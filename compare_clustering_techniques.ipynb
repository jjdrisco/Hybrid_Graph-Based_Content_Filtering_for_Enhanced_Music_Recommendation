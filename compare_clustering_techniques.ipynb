{
 "cells": [
  {
   "cell_type": "code",
   "execution_count": 2,
   "metadata": {},
   "outputs": [],
   "source": [
    "import pandas as pd\n",
    "import numpy as np"
   ]
  },
  {
   "cell_type": "code",
   "execution_count": 3,
   "metadata": {},
   "outputs": [],
   "source": [
    "# want to use agglometrive clustering - similarity based cluster merging\n",
    "# need lots of small clusters\n",
    "# https://arc.net/l/quote/fzvgzwab\n"
   ]
  },
  {
   "cell_type": "code",
   "execution_count": 4,
   "metadata": {},
   "outputs": [],
   "source": [
    "MUSIC_FEATURES_FP = 'data_music_features/processed_spotify_sample.csv'"
   ]
  },
  {
   "cell_type": "code",
   "execution_count": 5,
   "metadata": {},
   "outputs": [],
   "source": [
    "df = pd.read_csv(MUSIC_FEATURES_FP)\n"
   ]
  },
  {
   "cell_type": "code",
   "execution_count": 8,
   "metadata": {},
   "outputs": [
    {
     "data": {
      "text/plain": [
       "Index(['Unnamed: 0', 'track_id', 'artists', 'album_name', 'track_name',\n",
       "       'popularity', 'duration_ms', 'explicit', 'danceability', 'energy',\n",
       "       'key', 'loudness', 'mode', 'speechiness', 'acousticness',\n",
       "       'instrumentalness', 'liveness', 'valence', 'tempo', 'time_signature',\n",
       "       'track_genre', 'encoded_genre'],\n",
       "      dtype='object')"
      ]
     },
     "execution_count": 8,
     "metadata": {},
     "output_type": "execute_result"
    }
   ],
   "source": [
    "df.columns"
   ]
  },
  {
   "cell_type": "code",
   "execution_count": 54,
   "metadata": {},
   "outputs": [],
   "source": [
    "#subset columns for clustering\n",
    "X = df[['explicit','danceability', 'energy', 'key', 'loudness', 'mode', \n",
    "        'speechiness', 'acousticness', 'instrumentalness', 'liveness', \n",
    "        'valence', 'tempo', 'time_signature', 'encoded_genre']]\n",
    "X = X.dropna()"
   ]
  },
  {
   "cell_type": "code",
   "execution_count": 55,
   "metadata": {},
   "outputs": [
    {
     "data": {
      "text/html": [
       "<div>\n",
       "<style scoped>\n",
       "    .dataframe tbody tr th:only-of-type {\n",
       "        vertical-align: middle;\n",
       "    }\n",
       "\n",
       "    .dataframe tbody tr th {\n",
       "        vertical-align: top;\n",
       "    }\n",
       "\n",
       "    .dataframe thead th {\n",
       "        text-align: right;\n",
       "    }\n",
       "</style>\n",
       "<table border=\"1\" class=\"dataframe\">\n",
       "  <thead>\n",
       "    <tr style=\"text-align: right;\">\n",
       "      <th></th>\n",
       "      <th>explicit</th>\n",
       "      <th>danceability</th>\n",
       "      <th>energy</th>\n",
       "      <th>key</th>\n",
       "      <th>loudness</th>\n",
       "      <th>mode</th>\n",
       "      <th>speechiness</th>\n",
       "      <th>acousticness</th>\n",
       "      <th>instrumentalness</th>\n",
       "      <th>liveness</th>\n",
       "      <th>valence</th>\n",
       "      <th>tempo</th>\n",
       "      <th>time_signature</th>\n",
       "      <th>encoded_genre</th>\n",
       "    </tr>\n",
       "  </thead>\n",
       "  <tbody>\n",
       "    <tr>\n",
       "      <th>0</th>\n",
       "      <td>0</td>\n",
       "      <td>0.686294</td>\n",
       "      <td>0.4610</td>\n",
       "      <td>1</td>\n",
       "      <td>0.791392</td>\n",
       "      <td>0</td>\n",
       "      <td>0.148187</td>\n",
       "      <td>0.032329</td>\n",
       "      <td>0.000001</td>\n",
       "      <td>0.3580</td>\n",
       "      <td>0.718593</td>\n",
       "      <td>0.361245</td>\n",
       "      <td>4</td>\n",
       "      <td>0</td>\n",
       "    </tr>\n",
       "    <tr>\n",
       "      <th>1</th>\n",
       "      <td>0</td>\n",
       "      <td>0.426396</td>\n",
       "      <td>0.1660</td>\n",
       "      <td>1</td>\n",
       "      <td>0.597377</td>\n",
       "      <td>1</td>\n",
       "      <td>0.079067</td>\n",
       "      <td>0.927711</td>\n",
       "      <td>0.000006</td>\n",
       "      <td>0.1010</td>\n",
       "      <td>0.268342</td>\n",
       "      <td>0.318397</td>\n",
       "      <td>4</td>\n",
       "      <td>0</td>\n",
       "    </tr>\n",
       "    <tr>\n",
       "      <th>2</th>\n",
       "      <td>0</td>\n",
       "      <td>0.444670</td>\n",
       "      <td>0.3590</td>\n",
       "      <td>0</td>\n",
       "      <td>0.736123</td>\n",
       "      <td>1</td>\n",
       "      <td>0.057720</td>\n",
       "      <td>0.210843</td>\n",
       "      <td>0.000000</td>\n",
       "      <td>0.1170</td>\n",
       "      <td>0.120603</td>\n",
       "      <td>0.313643</td>\n",
       "      <td>4</td>\n",
       "      <td>0</td>\n",
       "    </tr>\n",
       "    <tr>\n",
       "      <th>3</th>\n",
       "      <td>0</td>\n",
       "      <td>0.270051</td>\n",
       "      <td>0.0596</td>\n",
       "      <td>0</td>\n",
       "      <td>0.573701</td>\n",
       "      <td>1</td>\n",
       "      <td>0.037617</td>\n",
       "      <td>0.908635</td>\n",
       "      <td>0.000071</td>\n",
       "      <td>0.1320</td>\n",
       "      <td>0.143719</td>\n",
       "      <td>0.746758</td>\n",
       "      <td>3</td>\n",
       "      <td>0</td>\n",
       "    </tr>\n",
       "    <tr>\n",
       "      <th>4</th>\n",
       "      <td>0</td>\n",
       "      <td>0.627411</td>\n",
       "      <td>0.4430</td>\n",
       "      <td>2</td>\n",
       "      <td>0.737103</td>\n",
       "      <td>1</td>\n",
       "      <td>0.054508</td>\n",
       "      <td>0.470884</td>\n",
       "      <td>0.000000</td>\n",
       "      <td>0.0829</td>\n",
       "      <td>0.167839</td>\n",
       "      <td>0.492863</td>\n",
       "      <td>4</td>\n",
       "      <td>0</td>\n",
       "    </tr>\n",
       "    <tr>\n",
       "      <th>...</th>\n",
       "      <td>...</td>\n",
       "      <td>...</td>\n",
       "      <td>...</td>\n",
       "      <td>...</td>\n",
       "      <td>...</td>\n",
       "      <td>...</td>\n",
       "      <td>...</td>\n",
       "      <td>...</td>\n",
       "      <td>...</td>\n",
       "      <td>...</td>\n",
       "      <td>...</td>\n",
       "      <td>...</td>\n",
       "      <td>...</td>\n",
       "      <td>...</td>\n",
       "    </tr>\n",
       "    <tr>\n",
       "      <th>104587</th>\n",
       "      <td>1</td>\n",
       "      <td>0.810152</td>\n",
       "      <td>0.6840</td>\n",
       "      <td>2</td>\n",
       "      <td>0.821135</td>\n",
       "      <td>1</td>\n",
       "      <td>0.174093</td>\n",
       "      <td>0.030823</td>\n",
       "      <td>0.000159</td>\n",
       "      <td>0.4790</td>\n",
       "      <td>0.559799</td>\n",
       "      <td>0.390086</td>\n",
       "      <td>4</td>\n",
       "      <td>104</td>\n",
       "    </tr>\n",
       "    <tr>\n",
       "      <th>104588</th>\n",
       "      <td>0</td>\n",
       "      <td>0.598985</td>\n",
       "      <td>0.1200</td>\n",
       "      <td>5</td>\n",
       "      <td>0.685866</td>\n",
       "      <td>1</td>\n",
       "      <td>0.038756</td>\n",
       "      <td>0.902610</td>\n",
       "      <td>0.000023</td>\n",
       "      <td>0.1090</td>\n",
       "      <td>0.370854</td>\n",
       "      <td>0.440063</td>\n",
       "      <td>4</td>\n",
       "      <td>104</td>\n",
       "    </tr>\n",
       "    <tr>\n",
       "      <th>104589</th>\n",
       "      <td>0</td>\n",
       "      <td>0.467005</td>\n",
       "      <td>0.2920</td>\n",
       "      <td>11</td>\n",
       "      <td>0.695651</td>\n",
       "      <td>1</td>\n",
       "      <td>0.029119</td>\n",
       "      <td>0.374498</td>\n",
       "      <td>0.229000</td>\n",
       "      <td>0.1700</td>\n",
       "      <td>0.358794</td>\n",
       "      <td>0.652935</td>\n",
       "      <td>3</td>\n",
       "      <td>104</td>\n",
       "    </tr>\n",
       "    <tr>\n",
       "      <th>104590</th>\n",
       "      <td>0</td>\n",
       "      <td>0.562437</td>\n",
       "      <td>0.8980</td>\n",
       "      <td>0</td>\n",
       "      <td>0.774818</td>\n",
       "      <td>1</td>\n",
       "      <td>0.049119</td>\n",
       "      <td>0.007349</td>\n",
       "      <td>0.833000</td>\n",
       "      <td>0.4780</td>\n",
       "      <td>0.857286</td>\n",
       "      <td>0.465497</td>\n",
       "      <td>1</td>\n",
       "      <td>104</td>\n",
       "    </tr>\n",
       "    <tr>\n",
       "      <th>104591</th>\n",
       "      <td>0</td>\n",
       "      <td>0.855838</td>\n",
       "      <td>0.4860</td>\n",
       "      <td>0</td>\n",
       "      <td>0.767309</td>\n",
       "      <td>1</td>\n",
       "      <td>0.046114</td>\n",
       "      <td>0.075602</td>\n",
       "      <td>0.773000</td>\n",
       "      <td>0.0961</td>\n",
       "      <td>0.928643</td>\n",
       "      <td>0.354667</td>\n",
       "      <td>4</td>\n",
       "      <td>104</td>\n",
       "    </tr>\n",
       "  </tbody>\n",
       "</table>\n",
       "<p>104592 rows × 14 columns</p>\n",
       "</div>"
      ],
      "text/plain": [
       "        explicit  danceability  energy  key  loudness  mode  speechiness  \\\n",
       "0              0      0.686294  0.4610    1  0.791392     0     0.148187   \n",
       "1              0      0.426396  0.1660    1  0.597377     1     0.079067   \n",
       "2              0      0.444670  0.3590    0  0.736123     1     0.057720   \n",
       "3              0      0.270051  0.0596    0  0.573701     1     0.037617   \n",
       "4              0      0.627411  0.4430    2  0.737103     1     0.054508   \n",
       "...          ...           ...     ...  ...       ...   ...          ...   \n",
       "104587         1      0.810152  0.6840    2  0.821135     1     0.174093   \n",
       "104588         0      0.598985  0.1200    5  0.685866     1     0.038756   \n",
       "104589         0      0.467005  0.2920   11  0.695651     1     0.029119   \n",
       "104590         0      0.562437  0.8980    0  0.774818     1     0.049119   \n",
       "104591         0      0.855838  0.4860    0  0.767309     1     0.046114   \n",
       "\n",
       "        acousticness  instrumentalness  liveness   valence     tempo  \\\n",
       "0           0.032329          0.000001    0.3580  0.718593  0.361245   \n",
       "1           0.927711          0.000006    0.1010  0.268342  0.318397   \n",
       "2           0.210843          0.000000    0.1170  0.120603  0.313643   \n",
       "3           0.908635          0.000071    0.1320  0.143719  0.746758   \n",
       "4           0.470884          0.000000    0.0829  0.167839  0.492863   \n",
       "...              ...               ...       ...       ...       ...   \n",
       "104587      0.030823          0.000159    0.4790  0.559799  0.390086   \n",
       "104588      0.902610          0.000023    0.1090  0.370854  0.440063   \n",
       "104589      0.374498          0.229000    0.1700  0.358794  0.652935   \n",
       "104590      0.007349          0.833000    0.4780  0.857286  0.465497   \n",
       "104591      0.075602          0.773000    0.0961  0.928643  0.354667   \n",
       "\n",
       "        time_signature  encoded_genre  \n",
       "0                    4              0  \n",
       "1                    4              0  \n",
       "2                    4              0  \n",
       "3                    3              0  \n",
       "4                    4              0  \n",
       "...                ...            ...  \n",
       "104587               4            104  \n",
       "104588               4            104  \n",
       "104589               3            104  \n",
       "104590               1            104  \n",
       "104591               4            104  \n",
       "\n",
       "[104592 rows x 14 columns]"
      ]
     },
     "execution_count": 55,
     "metadata": {},
     "output_type": "execute_result"
    }
   ],
   "source": [
    "X"
   ]
  },
  {
   "cell_type": "markdown",
   "metadata": {},
   "source": [
    "### MiniBatch K-Means"
   ]
  },
  {
   "cell_type": "code",
   "execution_count": 56,
   "metadata": {},
   "outputs": [],
   "source": [
    "from sklearn.cluster import MiniBatchKMeans"
   ]
  },
  {
   "cell_type": "code",
   "execution_count": 57,
   "metadata": {},
   "outputs": [],
   "source": [
    "kmeans = MiniBatchKMeans(n_clusters=500,\n",
    "                         random_state=0,\n",
    "                         #batch_size=6,\n",
    "                         max_iter=10,\n",
    "                         n_init=\"auto\",\n",
    "                         reassignment_ratio=0.1).fit(X)"
   ]
  },
  {
   "cell_type": "code",
   "execution_count": 58,
   "metadata": {},
   "outputs": [],
   "source": [
    "labels = kmeans.predict(X)"
   ]
  },
  {
   "cell_type": "code",
   "execution_count": 59,
   "metadata": {},
   "outputs": [
    {
     "data": {
      "text/plain": [
       "80     537\n",
       "244    471\n",
       "387    451\n",
       "464    437\n",
       "499    429\n",
       "      ... \n",
       "365     63\n",
       "227     63\n",
       "191     61\n",
       "465     49\n",
       "24      48\n",
       "Name: count, Length: 500, dtype: int64"
      ]
     },
     "execution_count": 59,
     "metadata": {},
     "output_type": "execute_result"
    }
   ],
   "source": [
    "pd.Series(labels).value_counts()"
   ]
  },
  {
   "cell_type": "code",
   "execution_count": 60,
   "metadata": {},
   "outputs": [
    {
     "data": {
      "text/plain": [
       "Index([427, 301,  93, 216, 334, 319, 348, 385, 302, 478, 210, 363, 282, 454,\n",
       "       109, 113,  75, 412, 295,  89, 125, 233, 365, 227, 191, 465,  24],\n",
       "      dtype='int32')"
      ]
     },
     "execution_count": 60,
     "metadata": {},
     "output_type": "execute_result"
    }
   ],
   "source": [
    "pd.Series(labels).value_counts()[pd.Series(labels).value_counts() < 100].index"
   ]
  },
  {
   "cell_type": "code",
   "execution_count": 45,
   "metadata": {},
   "outputs": [],
   "source": [
    "import numpy as np\n",
    "import matplotlib.pyplot as plt\n",
    "from sklearn.cluster import MiniBatchKMeans\n",
    "from sklearn.datasets import make_blobs"
   ]
  },
  {
   "cell_type": "code",
   "execution_count": 75,
   "metadata": {},
   "outputs": [
    {
     "data": {
      "image/png": "[encoded data removed]",
      "text/plain": [
       "<Figure size 800x600 with 1 Axes>"
      ]
     },
     "metadata": {},
     "output_type": "display_data"
    }
   ],
   "source": [
    "# Generate synthetic data\n",
    "n_samples = 104592\n",
    "n_features = 2\n",
    "n_clusters = 500\n",
    "random_state = 42\n",
    "\n",
    "X2, _ = make_blobs(n_samples=n_samples, n_features=n_features, centers=n_clusters, random_state=random_state)\n",
    "\n",
    "# Apply MiniBatchKMeans\n",
    "#kmeans = MiniBatchKMeans(n_clusters=n_clusters, random_state=random_state, batch_size=50)\n",
    "#labels2 = kmeans.fit_predict(X)\n",
    "\n",
    "# Plot results\n",
    "plt.figure(figsize=(8, 6))\n",
    "for cluster in pd.Series(labels).value_counts()[pd.Series(labels).value_counts() < 100].index:\n",
    "   plt.scatter(X2[labels == cluster, 0], X2[labels == cluster, 1], label=f'Cluster {cluster}')\n",
    "    \n",
    "# Plot cluster centers\n",
    "# plt.scatter(kmeans.cluster_centers_[:, 0], kmeans.cluster_centers_[:, 1], \n",
    "#             c='black', marker='X', s=200, label='Centroids')\n",
    "\n",
    "#plt.legend()\n",
    "plt.title(\"MiniBatchKMeans Clustering\")\n",
    "plt.xlabel(\"Feature 1\")\n",
    "plt.ylabel(\"Feature 2\")\n",
    "plt.show()\n"
   ]
  },
  {
   "cell_type": "code",
   "execution_count": 61,
   "metadata": {},
   "outputs": [
    {
     "data": {
      "text/plain": [
       "RangeIndex(start=0, stop=104592, step=1)"
      ]
     },
     "execution_count": 61,
     "metadata": {},
     "output_type": "execute_result"
    }
   ],
   "source": [
    "X.index"
   ]
  },
  {
   "cell_type": "code",
   "execution_count": 62,
   "metadata": {},
   "outputs": [
    {
     "data": {
      "text/plain": [
       "RangeIndex(start=0, stop=104592, step=1)"
      ]
     },
     "execution_count": 62,
     "metadata": {},
     "output_type": "execute_result"
    }
   ],
   "source": [
    "df.index"
   ]
  },
  {
   "cell_type": "code",
   "execution_count": 64,
   "metadata": {},
   "outputs": [],
   "source": [
    "X['cluster'] = labels\n",
    "df['cluster'] = None\n",
    "df.loc[X.index, 'cluster'] = X['cluster']"
   ]
  },
  {
   "cell_type": "code",
   "execution_count": 72,
   "metadata": {},
   "outputs": [
    {
     "data": {
      "text/html": [
       "<div>\n",
       "<style scoped>\n",
       "    .dataframe tbody tr th:only-of-type {\n",
       "        vertical-align: middle;\n",
       "    }\n",
       "\n",
       "    .dataframe tbody tr th {\n",
       "        vertical-align: top;\n",
       "    }\n",
       "\n",
       "    .dataframe thead th {\n",
       "        text-align: right;\n",
       "    }\n",
       "</style>\n",
       "<table border=\"1\" class=\"dataframe\">\n",
       "  <thead>\n",
       "    <tr style=\"text-align: right;\">\n",
       "      <th></th>\n",
       "      <th>Unnamed: 0</th>\n",
       "      <th>track_id</th>\n",
       "      <th>artists</th>\n",
       "      <th>album_name</th>\n",
       "      <th>track_name</th>\n",
       "      <th>popularity</th>\n",
       "      <th>duration_ms</th>\n",
       "      <th>explicit</th>\n",
       "      <th>danceability</th>\n",
       "      <th>energy</th>\n",
       "      <th>...</th>\n",
       "      <th>speechiness</th>\n",
       "      <th>acousticness</th>\n",
       "      <th>instrumentalness</th>\n",
       "      <th>liveness</th>\n",
       "      <th>valence</th>\n",
       "      <th>tempo</th>\n",
       "      <th>time_signature</th>\n",
       "      <th>track_genre</th>\n",
       "      <th>encoded_genre</th>\n",
       "      <th>cluster</th>\n",
       "    </tr>\n",
       "  </thead>\n",
       "  <tbody>\n",
       "    <tr>\n",
       "      <th>28751</th>\n",
       "      <td>29896</td>\n",
       "      <td>7nwVLrbEvFNH5sdPepvHjl</td>\n",
       "      <td>Dion Timmer;Excision;Monika Santucci</td>\n",
       "      <td>Subsidia Dawn: Vol. 4</td>\n",
       "      <td>Broken Pieces</td>\n",
       "      <td>0.22</td>\n",
       "      <td>0.040434</td>\n",
       "      <td>0</td>\n",
       "      <td>0.535025</td>\n",
       "      <td>0.935</td>\n",
       "      <td>...</td>\n",
       "      <td>0.044456</td>\n",
       "      <td>0.015863</td>\n",
       "      <td>0.000003</td>\n",
       "      <td>0.089</td>\n",
       "      <td>0.155779</td>\n",
       "      <td>0.419379</td>\n",
       "      <td>4</td>\n",
       "      <td>dubstep</td>\n",
       "      <td>28</td>\n",
       "      <td>314</td>\n",
       "    </tr>\n",
       "  </tbody>\n",
       "</table>\n",
       "<p>1 rows × 23 columns</p>\n",
       "</div>"
      ],
      "text/plain": [
       "       Unnamed: 0                track_id  \\\n",
       "28751       29896  7nwVLrbEvFNH5sdPepvHjl   \n",
       "\n",
       "                                    artists             album_name  \\\n",
       "28751  Dion Timmer;Excision;Monika Santucci  Subsidia Dawn: Vol. 4   \n",
       "\n",
       "          track_name  popularity  duration_ms  explicit  danceability  energy  \\\n",
       "28751  Broken Pieces        0.22     0.040434         0      0.535025   0.935   \n",
       "\n",
       "       ...  speechiness  acousticness  instrumentalness  liveness   valence  \\\n",
       "28751  ...     0.044456      0.015863          0.000003     0.089  0.155779   \n",
       "\n",
       "          tempo  time_signature  track_genre  encoded_genre  cluster  \n",
       "28751  0.419379               4      dubstep             28      314  \n",
       "\n",
       "[1 rows x 23 columns]"
      ]
     },
     "metadata": {},
     "output_type": "display_data"
    },
    {
     "data": {
      "text/html": [
       "<div>\n",
       "<style scoped>\n",
       "    .dataframe tbody tr th:only-of-type {\n",
       "        vertical-align: middle;\n",
       "    }\n",
       "\n",
       "    .dataframe tbody tr th {\n",
       "        vertical-align: top;\n",
       "    }\n",
       "\n",
       "    .dataframe thead th {\n",
       "        text-align: right;\n",
       "    }\n",
       "</style>\n",
       "<table border=\"1\" class=\"dataframe\">\n",
       "  <thead>\n",
       "    <tr style=\"text-align: right;\">\n",
       "      <th></th>\n",
       "      <th>Unnamed: 0</th>\n",
       "      <th>track_id</th>\n",
       "      <th>artists</th>\n",
       "      <th>album_name</th>\n",
       "      <th>track_name</th>\n",
       "      <th>popularity</th>\n",
       "      <th>duration_ms</th>\n",
       "      <th>explicit</th>\n",
       "      <th>danceability</th>\n",
       "      <th>energy</th>\n",
       "      <th>...</th>\n",
       "      <th>speechiness</th>\n",
       "      <th>acousticness</th>\n",
       "      <th>instrumentalness</th>\n",
       "      <th>liveness</th>\n",
       "      <th>valence</th>\n",
       "      <th>tempo</th>\n",
       "      <th>time_signature</th>\n",
       "      <th>track_genre</th>\n",
       "      <th>encoded_genre</th>\n",
       "      <th>cluster</th>\n",
       "    </tr>\n",
       "  </thead>\n",
       "  <tbody>\n",
       "    <tr>\n",
       "      <th>27347</th>\n",
       "      <td>28490</td>\n",
       "      <td>39N0x2bHHkTqTUiI4iYOBl</td>\n",
       "      <td>SLANDER;Dylan Matthew;Armin van Buuren</td>\n",
       "      <td>A State Of Trance Year Mix 2021 (Mixed by Armi...</td>\n",
       "      <td>Love Is Gone (Mixed) - Armin van Buuren Remix</td>\n",
       "      <td>0.47</td>\n",
       "      <td>0.015504</td>\n",
       "      <td>0</td>\n",
       "      <td>0.551269</td>\n",
       "      <td>0.944</td>\n",
       "      <td>...</td>\n",
       "      <td>0.045907</td>\n",
       "      <td>0.000285</td>\n",
       "      <td>0.03960</td>\n",
       "      <td>0.7530</td>\n",
       "      <td>0.394975</td>\n",
       "      <td>0.534207</td>\n",
       "      <td>4</td>\n",
       "      <td>dub</td>\n",
       "      <td>27</td>\n",
       "      <td>314</td>\n",
       "    </tr>\n",
       "    <tr>\n",
       "      <th>28829</th>\n",
       "      <td>29974</td>\n",
       "      <td>6LR3DEPjNAIQfpmrT7ishi</td>\n",
       "      <td>MitiS;SOUNDR</td>\n",
       "      <td>Lost</td>\n",
       "      <td>Homesick (feat. SOUNDR)</td>\n",
       "      <td>0.41</td>\n",
       "      <td>0.062680</td>\n",
       "      <td>0</td>\n",
       "      <td>0.379695</td>\n",
       "      <td>0.659</td>\n",
       "      <td>...</td>\n",
       "      <td>0.045389</td>\n",
       "      <td>0.246988</td>\n",
       "      <td>0.00104</td>\n",
       "      <td>0.0991</td>\n",
       "      <td>0.151759</td>\n",
       "      <td>0.714511</td>\n",
       "      <td>4</td>\n",
       "      <td>dubstep</td>\n",
       "      <td>28</td>\n",
       "      <td>314</td>\n",
       "    </tr>\n",
       "    <tr>\n",
       "      <th>27002</th>\n",
       "      <td>28145</td>\n",
       "      <td>5mcxpGvbTqusAuJNYGiO4O</td>\n",
       "      <td>Sugar Minott</td>\n",
       "      <td>Sugar Minott Masterpiece</td>\n",
       "      <td>We've Got A Good Thing Going</td>\n",
       "      <td>0.39</td>\n",
       "      <td>0.044080</td>\n",
       "      <td>0</td>\n",
       "      <td>0.861929</td>\n",
       "      <td>0.525</td>\n",
       "      <td>...</td>\n",
       "      <td>0.204145</td>\n",
       "      <td>0.164659</td>\n",
       "      <td>0.00000</td>\n",
       "      <td>0.0399</td>\n",
       "      <td>0.881407</td>\n",
       "      <td>0.323542</td>\n",
       "      <td>4</td>\n",
       "      <td>dub</td>\n",
       "      <td>27</td>\n",
       "      <td>314</td>\n",
       "    </tr>\n",
       "    <tr>\n",
       "      <th>27515</th>\n",
       "      <td>28658</td>\n",
       "      <td>3tfxzJZYkX0pyruhffxcl1</td>\n",
       "      <td>Riot Ten;H&amp;D</td>\n",
       "      <td>Money Walk</td>\n",
       "      <td>Money Walk</td>\n",
       "      <td>0.48</td>\n",
       "      <td>0.034226</td>\n",
       "      <td>1</td>\n",
       "      <td>0.829442</td>\n",
       "      <td>0.781</td>\n",
       "      <td>...</td>\n",
       "      <td>0.263212</td>\n",
       "      <td>0.011145</td>\n",
       "      <td>0.00000</td>\n",
       "      <td>0.0971</td>\n",
       "      <td>0.279397</td>\n",
       "      <td>0.308482</td>\n",
       "      <td>4</td>\n",
       "      <td>dub</td>\n",
       "      <td>27</td>\n",
       "      <td>314</td>\n",
       "    </tr>\n",
       "    <tr>\n",
       "      <th>27857</th>\n",
       "      <td>29001</td>\n",
       "      <td>6pooRNiLyYpxZeIA5kJ5EX</td>\n",
       "      <td>ILLENIUM;Jon Bellion</td>\n",
       "      <td>Good Things Fall Apart (with Jon Bellion)</td>\n",
       "      <td>Good Things Fall Apart (with Jon Bellion)</td>\n",
       "      <td>0.64</td>\n",
       "      <td>0.041370</td>\n",
       "      <td>0</td>\n",
       "      <td>0.652792</td>\n",
       "      <td>0.594</td>\n",
       "      <td>...</td>\n",
       "      <td>0.032953</td>\n",
       "      <td>0.012851</td>\n",
       "      <td>0.00000</td>\n",
       "      <td>0.1180</td>\n",
       "      <td>0.444221</td>\n",
       "      <td>0.591822</td>\n",
       "      <td>4</td>\n",
       "      <td>dubstep</td>\n",
       "      <td>28</td>\n",
       "      <td>314</td>\n",
       "    </tr>\n",
       "  </tbody>\n",
       "</table>\n",
       "<p>5 rows × 23 columns</p>\n",
       "</div>"
      ],
      "text/plain": [
       "       Unnamed: 0                track_id  \\\n",
       "27347       28490  39N0x2bHHkTqTUiI4iYOBl   \n",
       "28829       29974  6LR3DEPjNAIQfpmrT7ishi   \n",
       "27002       28145  5mcxpGvbTqusAuJNYGiO4O   \n",
       "27515       28658  3tfxzJZYkX0pyruhffxcl1   \n",
       "27857       29001  6pooRNiLyYpxZeIA5kJ5EX   \n",
       "\n",
       "                                      artists  \\\n",
       "27347  SLANDER;Dylan Matthew;Armin van Buuren   \n",
       "28829                            MitiS;SOUNDR   \n",
       "27002                            Sugar Minott   \n",
       "27515                            Riot Ten;H&D   \n",
       "27857                    ILLENIUM;Jon Bellion   \n",
       "\n",
       "                                              album_name  \\\n",
       "27347  A State Of Trance Year Mix 2021 (Mixed by Armi...   \n",
       "28829                                               Lost   \n",
       "27002                           Sugar Minott Masterpiece   \n",
       "27515                                         Money Walk   \n",
       "27857          Good Things Fall Apart (with Jon Bellion)   \n",
       "\n",
       "                                          track_name  popularity  duration_ms  \\\n",
       "27347  Love Is Gone (Mixed) - Armin van Buuren Remix        0.47     0.015504   \n",
       "28829                        Homesick (feat. SOUNDR)        0.41     0.062680   \n",
       "27002                   We've Got A Good Thing Going        0.39     0.044080   \n",
       "27515                                     Money Walk        0.48     0.034226   \n",
       "27857      Good Things Fall Apart (with Jon Bellion)        0.64     0.041370   \n",
       "\n",
       "       explicit  danceability  energy  ...  speechiness  acousticness  \\\n",
       "27347         0      0.551269   0.944  ...     0.045907      0.000285   \n",
       "28829         0      0.379695   0.659  ...     0.045389      0.246988   \n",
       "27002         0      0.861929   0.525  ...     0.204145      0.164659   \n",
       "27515         1      0.829442   0.781  ...     0.263212      0.011145   \n",
       "27857         0      0.652792   0.594  ...     0.032953      0.012851   \n",
       "\n",
       "       instrumentalness  liveness   valence     tempo  time_signature  \\\n",
       "27347           0.03960    0.7530  0.394975  0.534207               4   \n",
       "28829           0.00104    0.0991  0.151759  0.714511               4   \n",
       "27002           0.00000    0.0399  0.881407  0.323542               4   \n",
       "27515           0.00000    0.0971  0.279397  0.308482               4   \n",
       "27857           0.00000    0.1180  0.444221  0.591822               4   \n",
       "\n",
       "       track_genre  encoded_genre  cluster  \n",
       "27347          dub             27      314  \n",
       "28829      dubstep             28      314  \n",
       "27002          dub             27      314  \n",
       "27515          dub             27      314  \n",
       "27857      dubstep             28      314  \n",
       "\n",
       "[5 rows x 23 columns]"
      ]
     },
     "execution_count": 72,
     "metadata": {},
     "output_type": "execute_result"
    }
   ],
   "source": [
    "test_song_idx = np.random.randint(0, df.shape[0], 1)\n",
    "display(df.iloc[test_song_idx])\n",
    "possible_recs = df[df['cluster'] == df.iloc[test_song_idx]['cluster'].values[0]]\n",
    "possible_recs.loc[np.random.choice(possible_recs.index, 5)]"
   ]
  },
  {
   "cell_type": "code",
   "execution_count": 77,
   "metadata": {},
   "outputs": [
    {
     "data": {
      "text/html": [
       "<div>\n",
       "<style scoped>\n",
       "    .dataframe tbody tr th:only-of-type {\n",
       "        vertical-align: middle;\n",
       "    }\n",
       "\n",
       "    .dataframe tbody tr th {\n",
       "        vertical-align: top;\n",
       "    }\n",
       "\n",
       "    .dataframe thead th {\n",
       "        text-align: right;\n",
       "    }\n",
       "</style>\n",
       "<table border=\"1\" class=\"dataframe\">\n",
       "  <thead>\n",
       "    <tr style=\"text-align: right;\">\n",
       "      <th></th>\n",
       "      <th>track_name</th>\n",
       "      <th>artists</th>\n",
       "      <th>track_genre</th>\n",
       "      <th>cluster</th>\n",
       "    </tr>\n",
       "  </thead>\n",
       "  <tbody>\n",
       "    <tr>\n",
       "      <th>28751</th>\n",
       "      <td>Broken Pieces</td>\n",
       "      <td>Dion Timmer;Excision;Monika Santucci</td>\n",
       "      <td>dubstep</td>\n",
       "      <td>314</td>\n",
       "    </tr>\n",
       "  </tbody>\n",
       "</table>\n",
       "</div>"
      ],
      "text/plain": [
       "          track_name                               artists track_genre cluster\n",
       "28751  Broken Pieces  Dion Timmer;Excision;Monika Santucci     dubstep     314"
      ]
     },
     "metadata": {},
     "output_type": "display_data"
    },
    {
     "data": {
      "text/html": [
       "<div>\n",
       "<style scoped>\n",
       "    .dataframe tbody tr th:only-of-type {\n",
       "        vertical-align: middle;\n",
       "    }\n",
       "\n",
       "    .dataframe tbody tr th {\n",
       "        vertical-align: top;\n",
       "    }\n",
       "\n",
       "    .dataframe thead th {\n",
       "        text-align: right;\n",
       "    }\n",
       "</style>\n",
       "<table border=\"1\" class=\"dataframe\">\n",
       "  <thead>\n",
       "    <tr style=\"text-align: right;\">\n",
       "      <th></th>\n",
       "      <th>track_name</th>\n",
       "      <th>artists</th>\n",
       "      <th>track_genre</th>\n",
       "      <th>cluster</th>\n",
       "    </tr>\n",
       "  </thead>\n",
       "  <tbody>\n",
       "    <tr>\n",
       "      <th>28399</th>\n",
       "      <td>Slipping Away feat Cheney - Original Mix</td>\n",
       "      <td>BH;Kirk Cosier;Cheney</td>\n",
       "      <td>dubstep</td>\n",
       "      <td>314</td>\n",
       "    </tr>\n",
       "    <tr>\n",
       "      <th>28487</th>\n",
       "      <td>Wide Awake</td>\n",
       "      <td>Outwild</td>\n",
       "      <td>dubstep</td>\n",
       "      <td>314</td>\n",
       "    </tr>\n",
       "    <tr>\n",
       "      <th>28763</th>\n",
       "      <td>better when im next to u</td>\n",
       "      <td>nøll</td>\n",
       "      <td>dubstep</td>\n",
       "      <td>314</td>\n",
       "    </tr>\n",
       "    <tr>\n",
       "      <th>27416</th>\n",
       "      <td>Liar (with OST)</td>\n",
       "      <td>Kayzo;OST</td>\n",
       "      <td>dub</td>\n",
       "      <td>314</td>\n",
       "    </tr>\n",
       "    <tr>\n",
       "      <th>28079</th>\n",
       "      <td>Cheatcode</td>\n",
       "      <td>Black Tiger Sex Machine;Hairitage;Hyro The Hero</td>\n",
       "      <td>dubstep</td>\n",
       "      <td>314</td>\n",
       "    </tr>\n",
       "  </tbody>\n",
       "</table>\n",
       "</div>"
      ],
      "text/plain": [
       "                                     track_name  \\\n",
       "28399  Slipping Away feat Cheney - Original Mix   \n",
       "28487                                Wide Awake   \n",
       "28763                  better when im next to u   \n",
       "27416                           Liar (with OST)   \n",
       "28079                                 Cheatcode   \n",
       "\n",
       "                                               artists track_genre cluster  \n",
       "28399                            BH;Kirk Cosier;Cheney     dubstep     314  \n",
       "28487                                          Outwild     dubstep     314  \n",
       "28763                                             nøll     dubstep     314  \n",
       "27416                                        Kayzo;OST         dub     314  \n",
       "28079  Black Tiger Sex Machine;Hairitage;Hyro The Hero     dubstep     314  "
      ]
     },
     "execution_count": 77,
     "metadata": {},
     "output_type": "execute_result"
    }
   ],
   "source": [
    "display(df.iloc[test_song_idx][['track_name','artists','track_genre','cluster']])\n",
    "possible_recs.loc[np.random.choice(possible_recs.index, 5)][['track_name','artists','track_genre','cluster']]"
   ]
  },
  {
   "cell_type": "code",
   "execution_count": null,
   "metadata": {},
   "outputs": [],
   "source": [
    "df.to_csv('data_music_features/clustered_spotify_sample.csv', index=False)"
   ]
  },
  {
   "cell_type": "code",
   "execution_count": 73,
   "metadata": {},
   "outputs": [],
   "source": [
    "import pickle\n"
   ]
  },
  {
   "cell_type": "code",
   "execution_count": 74,
   "metadata": {},
   "outputs": [],
   "source": [
    "# save\n",
    "with open('022425_mbkmeans.pkl','wb') as f:\n",
    "    pickle.dump(kmeans,f)"
   ]
  },
  {
   "cell_type": "markdown",
   "metadata": {},
   "source": [
    "### Agglomerative"
   ]
  },
  {
   "cell_type": "code",
   "execution_count": 5,
   "metadata": {},
   "outputs": [],
   "source": [
    "from sklearn.cluster import AgglomerativeClustering"
   ]
  },
  {
   "cell_type": "code",
   "execution_count": null,
   "metadata": {},
   "outputs": [
    {
     "data": {
      "text/plain": [
       "array([  0,   0,   0, ...,   0, 132,   0])"
      ]
     },
     "execution_count": 8,
     "metadata": {},
     "output_type": "execute_result"
    }
   ],
   "source": [
    "clustering = AgglomerativeClustering(n_clusters=500, linkage='single').fit(X)\n",
    "clustering.labels_"
   ]
  },
  {
   "cell_type": "code",
   "execution_count": 11,
   "metadata": {},
   "outputs": [
    {
     "data": {
      "text/plain": [
       "0      103422\n",
       "5          98\n",
       "20         68\n",
       "25         52\n",
       "13         26\n",
       "        ...  \n",
       "139         1\n",
       "124         1\n",
       "73          1\n",
       "174         1\n",
       "137         1\n",
       "Name: count, Length: 500, dtype: int64"
      ]
     },
     "execution_count": 11,
     "metadata": {},
     "output_type": "execute_result"
    }
   ],
   "source": [
    "pd.Series(clustering.labels_).value_counts()"
   ]
  },
  {
   "cell_type": "markdown",
   "metadata": {},
   "source": [
    "sparse asf. not good for our use case"
   ]
  },
  {
   "cell_type": "code",
   "execution_count": 12,
   "metadata": {},
   "outputs": [
    {
     "data": {
      "text/plain": [
       "array([51691, 86625, 71901, ...,  2873,  8555,  4055])"
      ]
     },
     "execution_count": 12,
     "metadata": {},
     "output_type": "execute_result"
    }
   ],
   "source": [
    "clustering = AgglomerativeClustering(n_clusters=None, distance_threshold=0.1, linkage='single').fit(X)\n",
    "clustering.labels_"
   ]
  },
  {
   "cell_type": "code",
   "execution_count": 13,
   "metadata": {},
   "outputs": [
    {
     "data": {
      "text/plain": [
       "1729     42\n",
       "3095     38\n",
       "3464     38\n",
       "5459     36\n",
       "3985     36\n",
       "         ..\n",
       "5277      1\n",
       "10944     1\n",
       "2903      1\n",
       "8708      1\n",
       "57349     1\n",
       "Name: count, Length: 91156, dtype: int64"
      ]
     },
     "execution_count": 13,
     "metadata": {},
     "output_type": "execute_result"
    }
   ],
   "source": [
    "pd.Series(clustering.labels_).value_counts()"
   ]
  },
  {
   "cell_type": "markdown",
   "metadata": {},
   "source": [
    "wayyy to many clusters"
   ]
  },
  {
   "cell_type": "markdown",
   "metadata": {},
   "source": [
    "### Birch"
   ]
  },
  {
   "cell_type": "code",
   "execution_count": 6,
   "metadata": {},
   "outputs": [],
   "source": [
    "# implements agglo but online\n",
    "from sklearn.cluster import Birch"
   ]
  },
  {
   "cell_type": "code",
   "execution_count": 10,
   "metadata": {},
   "outputs": [],
   "source": [
    "brc = Birch(n_clusters=500) #do same as before hoping for 10 clusters per genre\n",
    "brc.fit(X)\n",
    "labels = brc.predict(X)"
   ]
  },
  {
   "cell_type": "code",
   "execution_count": 13,
   "metadata": {},
   "outputs": [
    {
     "data": {
      "text/plain": [
       "42     708\n",
       "60     682\n",
       "96     584\n",
       "71     566\n",
       "45     553\n",
       "      ... \n",
       "366      4\n",
       "394      4\n",
       "497      3\n",
       "417      3\n",
       "498      2\n",
       "Name: count, Length: 500, dtype: int64"
      ]
     },
     "execution_count": 13,
     "metadata": {},
     "output_type": "execute_result"
    }
   ],
   "source": [
    "pd.Series(labels).value_counts()"
   ]
  },
  {
   "cell_type": "code",
   "execution_count": 12,
   "metadata": {},
   "outputs": [
    {
     "data": {
      "text/plain": [
       "82     19\n",
       "264    18\n",
       "113    17\n",
       "348    17\n",
       "152    17\n",
       "       ..\n",
       "366     4\n",
       "394     4\n",
       "497     3\n",
       "417     3\n",
       "498     2\n",
       "Name: count, Length: 78, dtype: int64"
      ]
     },
     "execution_count": 12,
     "metadata": {},
     "output_type": "execute_result"
    }
   ],
   "source": [
    "pd.Series(labels).value_counts()[pd.Series(labels).value_counts() < 20]"
   ]
  },
  {
   "cell_type": "code",
   "execution_count": null,
   "metadata": {},
   "outputs": [],
   "source": [
    "# timed out\n",
    "# brc = Birch(threshold=0.1, branching_factor=20) #do same as before hoping for 10 clusters per genre\n",
    "# brc.fit(X)\n",
    "# labels = brc.predict(X)"
   ]
  },
  {
   "cell_type": "code",
   "execution_count": null,
   "metadata": {},
   "outputs": [],
   "source": [
    "pd.Series(labels).value_counts()"
   ]
  },
  {
   "cell_type": "code",
   "execution_count": null,
   "metadata": {},
   "outputs": [
    {
     "data": {
      "text/plain": [
       "0    44217\n",
       "1    32968\n",
       "2    27407\n",
       "Name: count, dtype: int64"
      ]
     },
     "execution_count": 27,
     "metadata": {},
     "output_type": "execute_result"
    }
   ],
   "source": [
    "# Birch()\n",
    "# pd.Series(labels).value_counts()"
   ]
  },
  {
   "cell_type": "code",
   "execution_count": 19,
   "metadata": {},
   "outputs": [],
   "source": [
    "brc = Birch(n_clusters=AgglomerativeClustering(n_clusters=None, distance_threshold=0.5, linkage='single'))\n",
    "brc.fit(X)\n",
    "labels = brc.predict(X)"
   ]
  },
  {
   "cell_type": "code",
   "execution_count": 20,
   "metadata": {},
   "outputs": [
    {
     "data": {
      "text/plain": [
       "6634    153\n",
       "6958    151\n",
       "3409    148\n",
       "7046    136\n",
       "6153    133\n",
       "       ... \n",
       "4560      1\n",
       "2553      1\n",
       "8417      1\n",
       "8072      1\n",
       "1279      1\n",
       "Name: count, Length: 9867, dtype: int64"
      ]
     },
     "execution_count": 20,
     "metadata": {},
     "output_type": "execute_result"
    }
   ],
   "source": [
    "pd.Series(labels).value_counts()"
   ]
  },
  {
   "cell_type": "markdown",
   "metadata": {},
   "source": [
    "distance_threshold = 0.1 gave 10621\n",
    "distance_threshold = 0.5 gave 9867\n",
    "some clusters have too few datapoints"
   ]
  },
  {
   "cell_type": "code",
   "execution_count": null,
   "metadata": {},
   "outputs": [
    {
     "data": {
      "text/plain": [
       "104592"
      ]
     },
     "execution_count": 21,
     "metadata": {},
     "output_type": "execute_result"
    }
   ],
   "source": [
    "X.shape[0]\n",
    "# 500 clusters will give lists of ~20"
   ]
  },
  {
   "cell_type": "markdown",
   "metadata": {},
   "source": [
    "### HDBSCAN"
   ]
  },
  {
   "cell_type": "code",
   "execution_count": null,
   "metadata": {},
   "outputs": [],
   "source": [
    "from sklearn.cluster import HDBSCAN"
   ]
  },
  {
   "cell_type": "code",
   "execution_count": null,
   "metadata": {},
   "outputs": [],
   "source": []
  },
  {
   "cell_type": "code",
   "execution_count": null,
   "metadata": {},
   "outputs": [],
   "source": [
    "# brc = Birch(n_clusters=HDBSCAN(min_cluster_size=10, max_cluster_size=20))\n",
    "# brc.fit(X)\n",
    "# labels = brc.predict(X)"
   ]
  },
  {
   "cell_type": "code",
   "execution_count": null,
   "metadata": {},
   "outputs": [
    {
     "data": {
      "text/plain": [
       "-1     99276\n",
       " 6       445\n",
       " 15      421\n",
       " 7       392\n",
       " 16      382\n",
       " 14      363\n",
       " 9       344\n",
       " 2       340\n",
       " 10      317\n",
       " 5       311\n",
       " 4       301\n",
       " 20      270\n",
       " 3       210\n",
       " 19      206\n",
       " 8       199\n",
       " 18      180\n",
       " 13      179\n",
       " 12      170\n",
       " 11      131\n",
       " 17      120\n",
       " 1        21\n",
       " 0        14\n",
       "Name: count, dtype: int64"
      ]
     },
     "execution_count": 24,
     "metadata": {},
     "output_type": "execute_result"
    }
   ],
   "source": [
    "# pd.Series(labels).value_counts()"
   ]
  },
  {
   "cell_type": "code",
   "execution_count": null,
   "metadata": {},
   "outputs": [],
   "source": [
    "from sklearn.cluster import HDBSCAN"
   ]
  },
  {
   "cell_type": "markdown",
   "metadata": {},
   "source": [
    "### CURE"
   ]
  },
  {
   "cell_type": "code",
   "execution_count": 25,
   "metadata": {},
   "outputs": [
    {
     "ename": "ModuleNotFoundError",
     "evalue": "No module named 'pyclustering'",
     "output_type": "error",
     "traceback": [
      "\u001b[0;31m---------------------------------------------------------------------------\u001b[0m",
      "\u001b[0;31mModuleNotFoundError\u001b[0m                       Traceback (most recent call last)",
      "Cell \u001b[0;32mIn[25], line 1\u001b[0m\n\u001b[0;32m----> 1\u001b[0m \u001b[38;5;28;01mfrom\u001b[39;00m \u001b[38;5;21;01mpyclustering\u001b[39;00m\u001b[38;5;21;01m.\u001b[39;00m\u001b[38;5;21;01mcluster\u001b[39;00m\u001b[38;5;21;01m.\u001b[39;00m\u001b[38;5;21;01mcure\u001b[39;00m \u001b[38;5;28;01mimport\u001b[39;00m cure\n",
      "\u001b[0;31mModuleNotFoundError\u001b[0m: No module named 'pyclustering'"
     ]
    }
   ],
   "source": [
    "from pyclustering.cluster.cure import cure"
   ]
  }
 ],
 "metadata": {
  "kernelspec": {
   "display_name": "dsc250project",
   "language": "python",
   "name": "python3"
  },
  "language_info": {
   "codemirror_mode": {
    "name": "ipython",
    "version": 3
   },
   "file_extension": ".py",
   "mimetype": "text/x-python",
   "name": "python",
   "nbconvert_exporter": "python",
   "pygments_lexer": "ipython3",
   "version": "3.10.16"
  }
 },
 "nbformat": 4,
 "nbformat_minor": 2
}
