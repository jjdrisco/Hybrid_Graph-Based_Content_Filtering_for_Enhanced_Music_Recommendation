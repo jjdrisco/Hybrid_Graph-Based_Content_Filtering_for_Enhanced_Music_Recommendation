{
 "cells": [
  {
   "cell_type": "code",
   "execution_count": 82,
   "metadata": {},
   "outputs": [],
   "source": [
    "from sklearn.metrics.pairwise import cosine_similarity\n",
    "from sklearn.feature_extraction.text import TfidfVectorizer\n",
    "from scipy.spatial.distance import cdist\n",
    "import sqlite3\n",
    "import pandas as pd\n",
    "import numpy as np"
   ]
  },
  {
   "cell_type": "code",
   "execution_count": 83,
   "metadata": {},
   "outputs": [],
   "source": [
    "# SQLite database file\n",
    "DB_FILE = \"music_data.db\""
   ]
  },
  {
   "cell_type": "markdown",
   "metadata": {},
   "source": [
    "### barebones content recommender"
   ]
  },
  {
   "cell_type": "code",
   "execution_count": 84,
   "metadata": {},
   "outputs": [],
   "source": [
    "def get_data():\n",
    "    conn = sqlite3.connect(DB_FILE)\n",
    "    cursor = conn.cursor()\n",
    "    \n",
    "    # Load relevant data\n",
    "    query = \"\"\"\n",
    "        SELECT track_id, title, genre, artist_name, artist_latitude, artist_longitude \n",
    "        FROM music_data \n",
    "        WHERE artist_latitude IS NOT NULL \n",
    "        AND artist_longitude IS NOT NULL\n",
    "        AND genre IS NOT NULL;\n",
    "    \"\"\"\n",
    "    df = pd.read_sql_query(query, conn)\n",
    "    conn.close()\n",
    "    return df"
   ]
  },
  {
   "cell_type": "code",
   "execution_count": 85,
   "metadata": {},
   "outputs": [],
   "source": [
    "def process_genres(df):\n",
    "    # Process text-based genre similarity\n",
    "    tfidf = TfidfVectorizer()\n",
    "    genre_matrix = tfidf.fit_transform(df['genre'].fillna(''))\n",
    "    return genre_matrix"
   ]
  },
  {
   "cell_type": "code",
   "execution_count": 86,
   "metadata": {},
   "outputs": [],
   "source": [
    "def compute_similarity(df, genre_matrix):\n",
    "    # Process location-based similarity using Euclidean distance\n",
    "    location_matrix = df[['artist_latitude', 'artist_longitude']].values\n",
    "    \n",
    "    # Compute similarity\n",
    "    genre_similarity = cosine_similarity(genre_matrix)\n",
    "    location_similarity = 1 - cdist(location_matrix, location_matrix, metric='euclidean')\n",
    "    location_similarity = np.nan_to_num(location_similarity)  # Handle NaNs\n",
    "    \n",
    "    # Combine similarities (weighted sum)\n",
    "    combined_similarity = 0.7 * genre_similarity + 0.3 * location_similarity\n",
    "    return combined_similarity"
   ]
  },
  {
   "cell_type": "code",
   "execution_count": 87,
   "metadata": {},
   "outputs": [],
   "source": [
    "def get_recommendations(df, combined_similarity, track_id, top_n=5):\n",
    "    # Get recommendations\n",
    "    track_index = df.index[df['track_id'] == track_id]\n",
    "    #print(track_index)\n",
    "    similar_indices = np.argsort(combined_similarity[track_index])[0][::-1][0:top_n+1]\n",
    "    if track_index[0] in similar_indices:\n",
    "        similar_indices = np.delete(similar_indices, np.where(similar_indices == track_index[0]))\n",
    "    else:\n",
    "        similar_indices = similar_indices[:-1]\n",
    "    #print(similar_indices)\n",
    "    recommendations = df.iloc[similar_indices][['title', 'genre','artist_name']]\n",
    "    \n",
    "    return recommendations"
   ]
  },
  {
   "cell_type": "code",
   "execution_count": 88,
   "metadata": {},
   "outputs": [],
   "source": [
    "#def recommend_similar_tracks(track_id, top_n=5):\n",
    "\n",
    "# Load data\n",
    "df = get_data()\n",
    "\n",
    "# Process genre data\n",
    "genre_matrix = process_genres(df)\n",
    "\n",
    "# Compute similarity\n",
    "combined_similarity = compute_similarity(df, genre_matrix)"
   ]
  },
  {
   "cell_type": "code",
   "execution_count": 89,
   "metadata": {},
   "outputs": [
    {
     "name": "stdout",
     "output_type": "stream",
     "text": [
      "Recommendations for                                 title     genre artist_name\n",
      "0  You Eclipsed By Me (Album Version)  Pop_Rock      Atreyu: \n",
      "                                                title     genre  \\\n",
      "420                                  Our Darkest Days  Pop_Rock   \n",
      "93                                       Kettle Black  Pop_Rock   \n",
      "74                     Nevada's Grace (Album Version)  Pop_Rock   \n",
      "43                            Gallows (Album Version)  Pop_Rock   \n",
      "506  Blood Children (an Introduction) (Album Version)  Pop_Rock   \n",
      "\n",
      "          artist_name  \n",
      "420  Eighteen Visions  \n",
      "93      BLEED THE SKY  \n",
      "74             Atreyu  \n",
      "43             Atreyu  \n",
      "506            Atreyu  \n"
     ]
    }
   ],
   "source": [
    "example_track = \"TRARRQO128F427B5F5\"  # Example track ID\n",
    "print(f\"Recommendations for {df[df['track_id'] == example_track][['title','genre','artist_name']]}: \\n\\\n",
    "{get_recommendations(df, combined_similarity, example_track)}\")"
   ]
  },
  {
   "cell_type": "code",
   "execution_count": null,
   "metadata": {},
   "outputs": [],
   "source": []
  }
 ],
 "metadata": {
  "kernelspec": {
   "display_name": "dsc250project",
   "language": "python",
   "name": "python3"
  },
  "language_info": {
   "codemirror_mode": {
    "name": "ipython",
    "version": 3
   },
   "file_extension": ".py",
   "mimetype": "text/x-python",
   "name": "python",
   "nbconvert_exporter": "python",
   "pygments_lexer": "ipython3",
   "version": "3.10.16"
  }
 },
 "nbformat": 4,
 "nbformat_minor": 2
}
